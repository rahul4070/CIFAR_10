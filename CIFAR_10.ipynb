{
  "nbformat": 4,
  "nbformat_minor": 0,
  "metadata": {
    "colab": {
      "name": "CIFAR_10.ipynb",
      "provenance": [],
      "include_colab_link": true
    },
    "kernelspec": {
      "name": "python3",
      "display_name": "Python 3"
    },
    "language_info": {
      "name": "python"
    },
    "accelerator": "GPU"
  },
  "cells": [
    {
      "cell_type": "markdown",
      "metadata": {
        "id": "view-in-github",
        "colab_type": "text"
      },
      "source": [
        "<a href=\"https://colab.research.google.com/github/rahul4070/CIFAR_10/blob/main/CIFAR_10.ipynb\" target=\"_parent\"><img src=\"https://colab.research.google.com/assets/colab-badge.svg\" alt=\"Open In Colab\"/></a>"
      ]
    },
    {
      "cell_type": "code",
      "execution_count": 1,
      "metadata": {
        "id": "YD3XUeS5eUTG"
      },
      "outputs": [],
      "source": [
        "import keras\n",
        "import tensorflow as tf\n",
        "from keras.datasets import cifar10\n",
        "from keras.models import Model, Sequential\n",
        "from keras.layers import Dense, Dropout, Flatten, Input, AveragePooling2D, merge, Activation, Input\n",
        "from keras.layers import Conv2D, MaxPooling2D, BatchNormalization\n",
        "from keras.layers import Concatenate\n",
        "from tensorflow.keras import models, layers, regularizers\n",
        "from tensorflow.keras.models import Model\n",
        "from tensorflow.keras.layers import BatchNormalization, Activation, Flatten\n",
        "from tensorflow.keras.optimizers import Adam"
      ]
    },
    {
      "cell_type": "code",
      "source": [
        "# Load CIFAR10 Data\n",
        "(X_train, y_train), (X_test, y_test) = tf.keras.datasets.cifar10.load_data()\n",
        "img_height, img_width, channel = X_train.shape[1],X_train.shape[2],X_train.shape[3]\n",
        "\n",
        "X_train =  X_train.astype('float32') / 255\n",
        "X_test = X_test.astype('float32') / 255\n",
        "\n",
        "num_classes = 10\n",
        "\n",
        "# convert to one hot encoding \n",
        "y_train = tf.keras.utils.to_categorical(y_train, num_classes)\n",
        "y_test = tf.keras.utils.to_categorical(y_test, num_classes) "
      ],
      "metadata": {
        "id": "qLDN-LcA6Bhv"
      },
      "execution_count": 2,
      "outputs": []
    },
    {
      "cell_type": "code",
      "source": [
        "X_train.shape"
      ],
      "metadata": {
        "colab": {
          "base_uri": "https://localhost:8080/"
        },
        "id": "VnlC5YbM7iq7",
        "outputId": "a471a271-ea31-497c-bcc2-023761cb1b8e"
      },
      "execution_count": 3,
      "outputs": [
        {
          "output_type": "execute_result",
          "data": {
            "text/plain": [
              "(50000, 32, 32, 3)"
            ]
          },
          "metadata": {},
          "execution_count": 3
        }
      ]
    },
    {
      "cell_type": "code",
      "source": [
        "X_test.shape"
      ],
      "metadata": {
        "colab": {
          "base_uri": "https://localhost:8080/"
        },
        "id": "h32MUNBX7pll",
        "outputId": "6a8727b3-7ccf-44c1-aa89-c83547f825c3"
      },
      "execution_count": 4,
      "outputs": [
        {
          "output_type": "execute_result",
          "data": {
            "text/plain": [
              "(10000, 32, 32, 3)"
            ]
          },
          "metadata": {},
          "execution_count": 4
        }
      ]
    },
    {
      "cell_type": "code",
      "source": [
        "model = Sequential()\n",
        "weight_decay = 1e-4\n",
        "model.add(Conv2D(64, (3,3), padding='same', kernel_initializer='he_uniform', kernel_regularizer=regularizers.l2(weight_decay), input_shape=X_train.shape[1:]))\n",
        "model.add(Activation('elu'))\n",
        "model.add(BatchNormalization())\n",
        "model.add(Conv2D(128, (3,3), padding='same', kernel_initializer='he_uniform', kernel_regularizer=regularizers.l2(weight_decay)))\n",
        "model.add(Activation('elu'))\n",
        "model.add(Conv2D(256, (3,3), padding='same', kernel_initializer='he_uniform', kernel_regularizer=regularizers.l2(weight_decay)))\n",
        "model.add(Activation('elu'))\n",
        "model.add(BatchNormalization())\n",
        "# model.add(Dropout(0.2))\n",
        "model.add(MaxPooling2D(pool_size=(2,2)))\n",
        "\n",
        " \n",
        "model.add(Conv2D(64, (3,3), padding='same', kernel_initializer='he_uniform', kernel_regularizer=regularizers.l2(weight_decay)))\n",
        "model.add(Activation('elu'))\n",
        "model.add(BatchNormalization())\n",
        "model.add(Conv2D(128, (3,3), padding='same', kernel_initializer='he_uniform', kernel_regularizer=regularizers.l2(weight_decay)))\n",
        "model.add(Activation('elu'))\n",
        "model.add(Conv2D(256, (3,3), padding='same', kernel_initializer='he_uniform', kernel_regularizer=regularizers.l2(weight_decay)))\n",
        "model.add(Activation('elu'))\n",
        "model.add(BatchNormalization())\n",
        "# model.add(Dropout(0.3))\n",
        "model.add(MaxPooling2D(pool_size=(2,2)))\n",
        "\n",
        "\n",
        "\n",
        "model.add(Conv2D(64, (3,3), padding='same', kernel_initializer='he_uniform', kernel_regularizer=regularizers.l2(weight_decay)))\n",
        "model.add(Activation('elu'))\n",
        "model.add(BatchNormalization())\n",
        "model.add(Conv2D(128, (3,3), padding='same', kernel_initializer='he_uniform', kernel_regularizer=regularizers.l2(weight_decay)))\n",
        "model.add(Activation('elu'))\n",
        "model.add(BatchNormalization())\n",
        "model.add(Conv2D(256, (3,3), padding='same', kernel_initializer='he_uniform', kernel_regularizer=regularizers.l2(weight_decay)))\n",
        "model.add(Activation('elu'))\n",
        "model.add(BatchNormalization())\n",
        "# model.add(Dropout(0.4))\n",
        "model.add(MaxPooling2D(pool_size=(2,2)))\n",
        "\n",
        " \n",
        "model.add(Flatten())\n",
        "# model.add(Dense(512,activation='elu',))\n",
        "model.add(Dense(num_classes, activation='softmax'))\n",
        " \n",
        "model.summary()"
      ],
      "metadata": {
        "colab": {
          "base_uri": "https://localhost:8080/"
        },
        "id": "hXMB9jHmNChW",
        "outputId": "a4c0ee70-f601-4232-868d-b65dbfeae694"
      },
      "execution_count": 5,
      "outputs": [
        {
          "output_type": "stream",
          "name": "stdout",
          "text": [
            "Model: \"sequential\"\n",
            "_________________________________________________________________\n",
            " Layer (type)                Output Shape              Param #   \n",
            "=================================================================\n",
            " conv2d (Conv2D)             (None, 32, 32, 64)        1792      \n",
            "                                                                 \n",
            " activation (Activation)     (None, 32, 32, 64)        0         \n",
            "                                                                 \n",
            " batch_normalization (BatchN  (None, 32, 32, 64)       256       \n",
            " ormalization)                                                   \n",
            "                                                                 \n",
            " conv2d_1 (Conv2D)           (None, 32, 32, 128)       73856     \n",
            "                                                                 \n",
            " activation_1 (Activation)   (None, 32, 32, 128)       0         \n",
            "                                                                 \n",
            " conv2d_2 (Conv2D)           (None, 32, 32, 256)       295168    \n",
            "                                                                 \n",
            " activation_2 (Activation)   (None, 32, 32, 256)       0         \n",
            "                                                                 \n",
            " batch_normalization_1 (Batc  (None, 32, 32, 256)      1024      \n",
            " hNormalization)                                                 \n",
            "                                                                 \n",
            " max_pooling2d (MaxPooling2D  (None, 16, 16, 256)      0         \n",
            " )                                                               \n",
            "                                                                 \n",
            " conv2d_3 (Conv2D)           (None, 16, 16, 64)        147520    \n",
            "                                                                 \n",
            " activation_3 (Activation)   (None, 16, 16, 64)        0         \n",
            "                                                                 \n",
            " batch_normalization_2 (Batc  (None, 16, 16, 64)       256       \n",
            " hNormalization)                                                 \n",
            "                                                                 \n",
            " conv2d_4 (Conv2D)           (None, 16, 16, 128)       73856     \n",
            "                                                                 \n",
            " activation_4 (Activation)   (None, 16, 16, 128)       0         \n",
            "                                                                 \n",
            " conv2d_5 (Conv2D)           (None, 16, 16, 256)       295168    \n",
            "                                                                 \n",
            " activation_5 (Activation)   (None, 16, 16, 256)       0         \n",
            "                                                                 \n",
            " batch_normalization_3 (Batc  (None, 16, 16, 256)      1024      \n",
            " hNormalization)                                                 \n",
            "                                                                 \n",
            " max_pooling2d_1 (MaxPooling  (None, 8, 8, 256)        0         \n",
            " 2D)                                                             \n",
            "                                                                 \n",
            " conv2d_6 (Conv2D)           (None, 8, 8, 64)          147520    \n",
            "                                                                 \n",
            " activation_6 (Activation)   (None, 8, 8, 64)          0         \n",
            "                                                                 \n",
            " batch_normalization_4 (Batc  (None, 8, 8, 64)         256       \n",
            " hNormalization)                                                 \n",
            "                                                                 \n",
            " conv2d_7 (Conv2D)           (None, 8, 8, 128)         73856     \n",
            "                                                                 \n",
            " activation_7 (Activation)   (None, 8, 8, 128)         0         \n",
            "                                                                 \n",
            " batch_normalization_5 (Batc  (None, 8, 8, 128)        512       \n",
            " hNormalization)                                                 \n",
            "                                                                 \n",
            " conv2d_8 (Conv2D)           (None, 8, 8, 256)         295168    \n",
            "                                                                 \n",
            " activation_8 (Activation)   (None, 8, 8, 256)         0         \n",
            "                                                                 \n",
            " batch_normalization_6 (Batc  (None, 8, 8, 256)        1024      \n",
            " hNormalization)                                                 \n",
            "                                                                 \n",
            " max_pooling2d_2 (MaxPooling  (None, 4, 4, 256)        0         \n",
            " 2D)                                                             \n",
            "                                                                 \n",
            " flatten (Flatten)           (None, 4096)              0         \n",
            "                                                                 \n",
            " dense (Dense)               (None, 10)                40970     \n",
            "                                                                 \n",
            "=================================================================\n",
            "Total params: 1,449,226\n",
            "Trainable params: 1,447,050\n",
            "Non-trainable params: 2,176\n",
            "_________________________________________________________________\n"
          ]
        }
      ]
    },
    {
      "cell_type": "code",
      "source": [
        "from tensorflow import keras\n",
        "from keras.preprocessing.image import ImageDataGenerator\n",
        "\n",
        "traindataGen = ImageDataGenerator(\n",
        "    rotation_range=15,\n",
        "    width_shift_range=0.1,\n",
        "    height_shift_range=0.1,\n",
        "    horizontal_flip=True,\n",
        "    )\n",
        "\n",
        "testdataGen = ImageDataGenerator(shear_range=0.2,zoom_range=0.2,\n",
        "height_shift_range=0.1,horizontal_flip=True)\n",
        "\n",
        "traindataGen.fit(X_train)\n",
        "testdataGen.fit(X_test)"
      ],
      "metadata": {
        "id": "60bsLIPm7-or"
      },
      "execution_count": 6,
      "outputs": []
    },
    {
      "cell_type": "code",
      "source": [
        "# determine Loss function and Optimizer\n",
        "model.compile(loss='categorical_crossentropy',\n",
        "              optimizer=Adam(),\n",
        "              metrics=['accuracy'])"
      ],
      "metadata": {
        "id": "hqdTb2AK7r8d"
      },
      "execution_count": 7,
      "outputs": []
    },
    {
      "cell_type": "code",
      "source": [
        "def lr_schedule(epoch):\n",
        "    lrate = 0.001\n",
        "    if epoch > 10:\n",
        "        lrate = 0.0009\n",
        "    if epoch > 20:\n",
        "        lrate = 0.0007\n",
        "    if epoch > 30:\n",
        "        lrate = 0.0003\n",
        "    if epoch > 40:\n",
        "        lrate = 0.00007\n",
        "\n",
        "    return lrate"
      ],
      "metadata": {
        "id": "cQA7-eMP4um3"
      },
      "execution_count": 8,
      "outputs": []
    },
    {
      "cell_type": "code",
      "source": [
        "import math\n",
        "from tensorflow.keras.callbacks import ReduceLROnPlateau, CSVLogger, LearningRateScheduler\n",
        "\n",
        "lrPlateau = ReduceLROnPlateau(monitor='val_accuracy', factor=(0.1), patience=2)\n",
        "\n",
        "\n",
        "csv_logger = CSVLogger('training.log')\n",
        "\n",
        "callbacks_list=[LearningRateScheduler(lr_schedule)]\n",
        "\n",
        "batch_size=64\n",
        "\n",
        "model_history = model.fit(traindataGen.flow(X_train,y_train,batch_size=32),\n",
        "                    batch_size=batch_size,\n",
        "                    epochs=70,\n",
        "                    steps_per_epoch=math.ceil(len(X_train) / batch_size),\n",
        "                    verbose=1, \n",
        "                    validation_data=(X_test,y_test),\n",
        "                    callbacks = callbacks_list)"
      ],
      "metadata": {
        "colab": {
          "base_uri": "https://localhost:8080/"
        },
        "id": "0GBPIkXc71r9",
        "outputId": "7074dd1f-4cb3-4cad-ab04-99d90b7f4faa"
      },
      "execution_count": 10,
      "outputs": [
        {
          "output_type": "stream",
          "name": "stdout",
          "text": [
            "Epoch 1/70\n",
            "782/782 [==============================] - 54s 63ms/step - loss: 2.2754 - accuracy: 0.3965 - val_loss: 3.2414 - val_accuracy: 0.3899 - lr: 0.0010\n",
            "Epoch 2/70\n",
            "782/782 [==============================] - 44s 56ms/step - loss: 1.7373 - accuracy: 0.5445 - val_loss: 2.0676 - val_accuracy: 0.5633 - lr: 0.0010\n",
            "Epoch 3/70\n",
            "782/782 [==============================] - 44s 56ms/step - loss: 1.5555 - accuracy: 0.6107 - val_loss: 1.4799 - val_accuracy: 0.6358 - lr: 0.0010\n",
            "Epoch 4/70\n",
            "782/782 [==============================] - 44s 57ms/step - loss: 1.3110 - accuracy: 0.6598 - val_loss: 1.3541 - val_accuracy: 0.6534 - lr: 0.0010\n",
            "Epoch 5/70\n",
            "782/782 [==============================] - 44s 56ms/step - loss: 1.1814 - accuracy: 0.6990 - val_loss: 1.1985 - val_accuracy: 0.7047 - lr: 0.0010\n",
            "Epoch 6/70\n",
            "782/782 [==============================] - 44s 56ms/step - loss: 1.1154 - accuracy: 0.7173 - val_loss: 1.1103 - val_accuracy: 0.7255 - lr: 0.0010\n",
            "Epoch 7/70\n",
            "782/782 [==============================] - 43s 56ms/step - loss: 1.0374 - accuracy: 0.7395 - val_loss: 0.9445 - val_accuracy: 0.7686 - lr: 0.0010\n",
            "Epoch 8/70\n",
            "782/782 [==============================] - 43s 55ms/step - loss: 0.9964 - accuracy: 0.7543 - val_loss: 0.9533 - val_accuracy: 0.7632 - lr: 0.0010\n",
            "Epoch 9/70\n",
            "782/782 [==============================] - 44s 56ms/step - loss: 0.9517 - accuracy: 0.7690 - val_loss: 1.0085 - val_accuracy: 0.7510 - lr: 0.0010\n",
            "Epoch 10/70\n",
            "782/782 [==============================] - 43s 55ms/step - loss: 0.9196 - accuracy: 0.7789 - val_loss: 1.0636 - val_accuracy: 0.7531 - lr: 0.0010\n",
            "Epoch 11/70\n",
            "782/782 [==============================] - 43s 55ms/step - loss: 0.8963 - accuracy: 0.7878 - val_loss: 1.1621 - val_accuracy: 0.7316 - lr: 0.0010\n",
            "Epoch 12/70\n",
            "782/782 [==============================] - 43s 55ms/step - loss: 0.8659 - accuracy: 0.7971 - val_loss: 0.9135 - val_accuracy: 0.7801 - lr: 9.0000e-04\n",
            "Epoch 13/70\n",
            "782/782 [==============================] - 43s 55ms/step - loss: 0.8400 - accuracy: 0.8052 - val_loss: 0.9012 - val_accuracy: 0.7861 - lr: 9.0000e-04\n",
            "Epoch 14/70\n",
            "782/782 [==============================] - 43s 55ms/step - loss: 0.8292 - accuracy: 0.8098 - val_loss: 0.8965 - val_accuracy: 0.7949 - lr: 9.0000e-04\n",
            "Epoch 15/70\n",
            "782/782 [==============================] - 43s 55ms/step - loss: 0.7976 - accuracy: 0.8191 - val_loss: 0.8944 - val_accuracy: 0.8005 - lr: 9.0000e-04\n",
            "Epoch 16/70\n",
            "782/782 [==============================] - 43s 55ms/step - loss: 0.7944 - accuracy: 0.8199 - val_loss: 0.8795 - val_accuracy: 0.7961 - lr: 9.0000e-04\n",
            "Epoch 17/70\n",
            "782/782 [==============================] - 44s 56ms/step - loss: 0.7787 - accuracy: 0.8264 - val_loss: 0.8468 - val_accuracy: 0.8037 - lr: 9.0000e-04\n",
            "Epoch 18/70\n",
            "782/782 [==============================] - 44s 56ms/step - loss: 0.7739 - accuracy: 0.8266 - val_loss: 0.8760 - val_accuracy: 0.8015 - lr: 9.0000e-04\n",
            "Epoch 19/70\n",
            "782/782 [==============================] - 44s 56ms/step - loss: 0.7634 - accuracy: 0.8328 - val_loss: 0.8151 - val_accuracy: 0.8166 - lr: 9.0000e-04\n",
            "Epoch 20/70\n",
            "782/782 [==============================] - 44s 56ms/step - loss: 0.7508 - accuracy: 0.8351 - val_loss: 0.9880 - val_accuracy: 0.7686 - lr: 9.0000e-04\n",
            "Epoch 21/70\n",
            "782/782 [==============================] - 44s 56ms/step - loss: 0.7400 - accuracy: 0.8382 - val_loss: 0.8859 - val_accuracy: 0.7990 - lr: 9.0000e-04\n",
            "Epoch 22/70\n",
            "782/782 [==============================] - 44s 56ms/step - loss: 0.6866 - accuracy: 0.8570 - val_loss: 0.7657 - val_accuracy: 0.8352 - lr: 7.0000e-04\n",
            "Epoch 23/70\n",
            "782/782 [==============================] - 43s 56ms/step - loss: 0.6766 - accuracy: 0.8541 - val_loss: 0.6960 - val_accuracy: 0.8503 - lr: 7.0000e-04\n",
            "Epoch 24/70\n",
            "782/782 [==============================] - 44s 56ms/step - loss: 0.6613 - accuracy: 0.8616 - val_loss: 0.7168 - val_accuracy: 0.8489 - lr: 7.0000e-04\n",
            "Epoch 25/70\n",
            "782/782 [==============================] - 43s 56ms/step - loss: 0.6574 - accuracy: 0.8625 - val_loss: 0.7812 - val_accuracy: 0.8248 - lr: 7.0000e-04\n",
            "Epoch 26/70\n",
            "782/782 [==============================] - 43s 55ms/step - loss: 0.6483 - accuracy: 0.8665 - val_loss: 0.7663 - val_accuracy: 0.8292 - lr: 7.0000e-04\n",
            "Epoch 27/70\n",
            "782/782 [==============================] - 44s 56ms/step - loss: 0.6347 - accuracy: 0.8686 - val_loss: 0.7228 - val_accuracy: 0.8411 - lr: 7.0000e-04\n",
            "Epoch 28/70\n",
            "782/782 [==============================] - 43s 55ms/step - loss: 0.6273 - accuracy: 0.8698 - val_loss: 0.7816 - val_accuracy: 0.8349 - lr: 7.0000e-04\n",
            "Epoch 29/70\n",
            "782/782 [==============================] - 44s 56ms/step - loss: 0.6257 - accuracy: 0.8704 - val_loss: 0.7042 - val_accuracy: 0.8517 - lr: 7.0000e-04\n",
            "Epoch 30/70\n",
            "782/782 [==============================] - 43s 55ms/step - loss: 0.6214 - accuracy: 0.8720 - val_loss: 0.6500 - val_accuracy: 0.8696 - lr: 7.0000e-04\n",
            "Epoch 31/70\n",
            "782/782 [==============================] - 44s 56ms/step - loss: 0.6179 - accuracy: 0.8737 - val_loss: 0.7471 - val_accuracy: 0.8415 - lr: 7.0000e-04\n",
            "Epoch 32/70\n",
            "782/782 [==============================] - 44s 56ms/step - loss: 0.5416 - accuracy: 0.8967 - val_loss: 0.6128 - val_accuracy: 0.8767 - lr: 3.0000e-04\n",
            "Epoch 33/70\n",
            "782/782 [==============================] - 43s 56ms/step - loss: 0.5121 - accuracy: 0.9038 - val_loss: 0.6073 - val_accuracy: 0.8752 - lr: 3.0000e-04\n",
            "Epoch 34/70\n",
            "782/782 [==============================] - 43s 55ms/step - loss: 0.4964 - accuracy: 0.9087 - val_loss: 0.6093 - val_accuracy: 0.8746 - lr: 3.0000e-04\n",
            "Epoch 35/70\n",
            "782/782 [==============================] - 43s 55ms/step - loss: 0.4856 - accuracy: 0.9091 - val_loss: 0.5762 - val_accuracy: 0.8831 - lr: 3.0000e-04\n",
            "Epoch 36/70\n",
            "782/782 [==============================] - 43s 55ms/step - loss: 0.4811 - accuracy: 0.9083 - val_loss: 0.5712 - val_accuracy: 0.8819 - lr: 3.0000e-04\n",
            "Epoch 37/70\n",
            "782/782 [==============================] - 43s 55ms/step - loss: 0.4757 - accuracy: 0.9071 - val_loss: 0.5851 - val_accuracy: 0.8781 - lr: 3.0000e-04\n",
            "Epoch 38/70\n",
            "782/782 [==============================] - 44s 56ms/step - loss: 0.4542 - accuracy: 0.9164 - val_loss: 0.5710 - val_accuracy: 0.8813 - lr: 3.0000e-04\n",
            "Epoch 39/70\n",
            "782/782 [==============================] - 43s 55ms/step - loss: 0.4516 - accuracy: 0.9145 - val_loss: 0.5843 - val_accuracy: 0.8792 - lr: 3.0000e-04\n",
            "Epoch 40/70\n",
            "782/782 [==============================] - 45s 57ms/step - loss: 0.4466 - accuracy: 0.9167 - val_loss: 0.5756 - val_accuracy: 0.8788 - lr: 3.0000e-04\n",
            "Epoch 41/70\n",
            "782/782 [==============================] - 44s 57ms/step - loss: 0.4374 - accuracy: 0.9176 - val_loss: 0.5740 - val_accuracy: 0.8824 - lr: 3.0000e-04\n",
            "Epoch 42/70\n",
            "782/782 [==============================] - 44s 57ms/step - loss: 0.4062 - accuracy: 0.9295 - val_loss: 0.5099 - val_accuracy: 0.8953 - lr: 7.0000e-05\n",
            "Epoch 43/70\n",
            "782/782 [==============================] - 44s 57ms/step - loss: 0.3884 - accuracy: 0.9344 - val_loss: 0.5037 - val_accuracy: 0.9009 - lr: 7.0000e-05\n",
            "Epoch 44/70\n",
            "782/782 [==============================] - 45s 57ms/step - loss: 0.3735 - accuracy: 0.9380 - val_loss: 0.4913 - val_accuracy: 0.9051 - lr: 7.0000e-05\n",
            "Epoch 45/70\n",
            "782/782 [==============================] - 44s 57ms/step - loss: 0.3627 - accuracy: 0.9425 - val_loss: 0.4900 - val_accuracy: 0.9056 - lr: 7.0000e-05\n",
            "Epoch 46/70\n",
            "782/782 [==============================] - 44s 57ms/step - loss: 0.3629 - accuracy: 0.9409 - val_loss: 0.4823 - val_accuracy: 0.9077 - lr: 7.0000e-05\n",
            "Epoch 47/70\n",
            "782/782 [==============================] - 44s 56ms/step - loss: 0.3570 - accuracy: 0.9417 - val_loss: 0.4828 - val_accuracy: 0.9049 - lr: 7.0000e-05\n",
            "Epoch 48/70\n",
            "782/782 [==============================] - 45s 57ms/step - loss: 0.3533 - accuracy: 0.9425 - val_loss: 0.4932 - val_accuracy: 0.9050 - lr: 7.0000e-05\n",
            "Epoch 49/70\n",
            "782/782 [==============================] - 45s 58ms/step - loss: 0.3503 - accuracy: 0.9426 - val_loss: 0.4887 - val_accuracy: 0.9043 - lr: 7.0000e-05\n",
            "Epoch 50/70\n",
            "782/782 [==============================] - 44s 57ms/step - loss: 0.3398 - accuracy: 0.9471 - val_loss: 0.4849 - val_accuracy: 0.9050 - lr: 7.0000e-05\n",
            "Epoch 51/70\n",
            "782/782 [==============================] - 44s 56ms/step - loss: 0.3378 - accuracy: 0.9458 - val_loss: 0.4847 - val_accuracy: 0.9060 - lr: 7.0000e-05\n",
            "Epoch 52/70\n",
            "782/782 [==============================] - 45s 57ms/step - loss: 0.3395 - accuracy: 0.9448 - val_loss: 0.4783 - val_accuracy: 0.9069 - lr: 7.0000e-05\n",
            "Epoch 53/70\n",
            "782/782 [==============================] - 44s 57ms/step - loss: 0.3340 - accuracy: 0.9479 - val_loss: 0.4766 - val_accuracy: 0.9082 - lr: 7.0000e-05\n",
            "Epoch 54/70\n",
            "782/782 [==============================] - 44s 56ms/step - loss: 0.3300 - accuracy: 0.9492 - val_loss: 0.4802 - val_accuracy: 0.9066 - lr: 7.0000e-05\n",
            "Epoch 55/70\n",
            "782/782 [==============================] - 45s 57ms/step - loss: 0.3267 - accuracy: 0.9485 - val_loss: 0.4733 - val_accuracy: 0.9051 - lr: 7.0000e-05\n",
            "Epoch 56/70\n",
            "782/782 [==============================] - 45s 57ms/step - loss: 0.3204 - accuracy: 0.9510 - val_loss: 0.4930 - val_accuracy: 0.9040 - lr: 7.0000e-05\n",
            "Epoch 57/70\n",
            "782/782 [==============================] - 45s 58ms/step - loss: 0.3140 - accuracy: 0.9520 - val_loss: 0.4655 - val_accuracy: 0.9100 - lr: 7.0000e-05\n",
            "Epoch 58/70\n",
            "782/782 [==============================] - 44s 57ms/step - loss: 0.3170 - accuracy: 0.9505 - val_loss: 0.4742 - val_accuracy: 0.9086 - lr: 7.0000e-05\n",
            "Epoch 59/70\n",
            "782/782 [==============================] - 45s 57ms/step - loss: 0.3127 - accuracy: 0.9516 - val_loss: 0.4947 - val_accuracy: 0.9052 - lr: 7.0000e-05\n",
            "Epoch 60/70\n",
            "782/782 [==============================] - 45s 57ms/step - loss: 0.3150 - accuracy: 0.9517 - val_loss: 0.4766 - val_accuracy: 0.9076 - lr: 7.0000e-05\n",
            "Epoch 61/70\n",
            "782/782 [==============================] - 45s 57ms/step - loss: 0.3025 - accuracy: 0.9559 - val_loss: 0.4647 - val_accuracy: 0.9100 - lr: 7.0000e-05\n",
            "Epoch 62/70\n",
            "782/782 [==============================] - 45s 57ms/step - loss: 0.3024 - accuracy: 0.9542 - val_loss: 0.4671 - val_accuracy: 0.9109 - lr: 7.0000e-05\n",
            "Epoch 63/70\n",
            "782/782 [==============================] - 45s 57ms/step - loss: 0.3087 - accuracy: 0.9518 - val_loss: 0.4681 - val_accuracy: 0.9099 - lr: 7.0000e-05\n",
            "Epoch 64/70\n",
            "782/782 [==============================] - 45s 57ms/step - loss: 0.2977 - accuracy: 0.9555 - val_loss: 0.4748 - val_accuracy: 0.9068 - lr: 7.0000e-05\n",
            "Epoch 65/70\n",
            "782/782 [==============================] - 45s 58ms/step - loss: 0.2962 - accuracy: 0.9548 - val_loss: 0.4800 - val_accuracy: 0.9071 - lr: 7.0000e-05\n",
            "Epoch 66/70\n",
            "782/782 [==============================] - 45s 57ms/step - loss: 0.2934 - accuracy: 0.9548 - val_loss: 0.4679 - val_accuracy: 0.9094 - lr: 7.0000e-05\n",
            "Epoch 67/70\n",
            "782/782 [==============================] - 45s 57ms/step - loss: 0.2937 - accuracy: 0.9544 - val_loss: 0.4709 - val_accuracy: 0.9084 - lr: 7.0000e-05\n",
            "Epoch 68/70\n",
            "782/782 [==============================] - 45s 57ms/step - loss: 0.2892 - accuracy: 0.9568 - val_loss: 0.4618 - val_accuracy: 0.9092 - lr: 7.0000e-05\n",
            "Epoch 69/70\n",
            "782/782 [==============================] - 45s 57ms/step - loss: 0.2848 - accuracy: 0.9583 - val_loss: 0.4683 - val_accuracy: 0.9101 - lr: 7.0000e-05\n",
            "Epoch 70/70\n",
            "782/782 [==============================] - 45s 57ms/step - loss: 0.2912 - accuracy: 0.9554 - val_loss: 0.4646 - val_accuracy: 0.9106 - lr: 7.0000e-05\n"
          ]
        }
      ]
    },
    {
      "cell_type": "code",
      "source": [
        "# Test the model\n",
        "score = model.evaluate(X_test, y_test, verbose=1)\n",
        "print('Test loss:', score[0])\n",
        "print('Test accuracy:', score[1])"
      ],
      "metadata": {
        "id": "7wManqwy71oz",
        "colab": {
          "base_uri": "https://localhost:8080/"
        },
        "outputId": "cabeb791-3a9c-47a9-ad78-ee5f37e2cdab"
      },
      "execution_count": 11,
      "outputs": [
        {
          "output_type": "stream",
          "name": "stdout",
          "text": [
            "313/313 [==============================] - 6s 19ms/step - loss: 0.4646 - accuracy: 0.9106\n",
            "Test loss: 0.46456941962242126\n",
            "Test accuracy: 0.9106000065803528\n"
          ]
        }
      ]
    },
    {
      "cell_type": "code",
      "source": [
        "# https://machinelearningmastery.com/display-deep-learning-model-training-history-in-keras/\n",
        "\n",
        "import matplotlib.pyplot as plt\n",
        "\n",
        "# summarize history for accuracy\n",
        "plt.plot(model_history.history['loss'])\n",
        "plt.plot(model_history.history['val_loss'])\n",
        "plt.title('model loss')\n",
        "plt.ylabel('loss')\n",
        "plt.xlabel('epoch')\n",
        "plt.legend(['train', 'test'], loc='upper left')\n",
        "plt.show()\n",
        "# summarize history for loss\n",
        "plt.plot(model_history.history['accuracy'])\n",
        "plt.plot(model_history.history['val_accuracy'])\n",
        "plt.title('model accuracy')\n",
        "plt.ylabel('accuracy')\n",
        "plt.xlabel('epoch')\n",
        "plt.legend(['train', 'test'], loc='upper left')\n",
        "plt.show()"
      ],
      "metadata": {
        "id": "uDll9HmH8WfP",
        "colab": {
          "base_uri": "https://localhost:8080/",
          "height": 573
        },
        "outputId": "e23753d5-f9f0-4e13-ebc8-c6404c1e5051"
      },
      "execution_count": 12,
      "outputs": [
        {
          "output_type": "display_data",
          "data": {
            "image/png": "[encoded data removed]",
            "text/plain": [
              "<Figure size 432x288 with 1 Axes>"
            ]
          },
          "metadata": {
            "needs_background": "light"
          }
        },
        {
          "output_type": "display_data",
          "data": {
            "image/png": "[encoded data removed]",
            "text/plain": [
              "<Figure size 432x288 with 1 Axes>"
            ]
          },
          "metadata": {
            "needs_background": "light"
          }
        }
      ]
    },
    {
      "cell_type": "code",
      "source": [
        "# Save the trained weights in to .h5 format\n",
        "model.save_weights(\"DNST_model.h5\")\n",
        "print(\"Saved model to disk\")"
      ],
      "metadata": {
        "id": "XztgMbXO71ls",
        "colab": {
          "base_uri": "https://localhost:8080/"
        },
        "outputId": "893065e0-c22a-4616-e6b6-8c8ce83f6619"
      },
      "execution_count": 13,
      "outputs": [
        {
          "output_type": "stream",
          "name": "stdout",
          "text": [
            "Saved model to disk\n"
          ]
        }
      ]
    }
  ]
}